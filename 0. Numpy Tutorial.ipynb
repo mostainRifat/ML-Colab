{
 "cells": [
  {
   "cell_type": "markdown",
   "id": "28356ffb-8920-45f5-8a8e-9207b35ad545",
   "metadata": {},
   "source": [
    "## Numpy Tutorial"
   ]
  },
  {
   "cell_type": "code",
   "execution_count": 1,
   "id": "ca5ab887-56ef-48d6-b806-a3e08920c6eb",
   "metadata": {},
   "outputs": [],
   "source": [
    "import numpy as np"
   ]
  },
  {
   "cell_type": "code",
   "execution_count": 2,
   "id": "88f78793-bcec-43f8-b2d2-411412c126c5",
   "metadata": {},
   "outputs": [],
   "source": [
    "myarr = np.array([[3,4,5,1,8]] , np.int32)"
   ]
  },
  {
   "cell_type": "code",
   "execution_count": 3,
   "id": "e051b3bc-52e0-436b-9d4a-ab9cbf3fdb14",
   "metadata": {},
   "outputs": [
    {
     "data": {
      "text/plain": [
       "array([[3, 4, 5, 1, 8]], dtype=int32)"
      ]
     },
     "execution_count": 3,
     "metadata": {},
     "output_type": "execute_result"
    }
   ],
   "source": [
    "myarr"
   ]
  },
  {
   "cell_type": "code",
   "execution_count": 4,
   "id": "a5004ab2-7c94-4b17-9c01-d549c07c5226",
   "metadata": {},
   "outputs": [
    {
     "data": {
      "text/plain": [
       "np.int32(4)"
      ]
     },
     "execution_count": 4,
     "metadata": {},
     "output_type": "execute_result"
    }
   ],
   "source": [
    "myarr[0,1]"
   ]
  },
  {
   "cell_type": "code",
   "execution_count": 5,
   "id": "e3dda0e6-2b48-4b05-afd3-18fa8e92a27f",
   "metadata": {},
   "outputs": [
    {
     "data": {
      "text/plain": [
       "(1, 5)"
      ]
     },
     "execution_count": 5,
     "metadata": {},
     "output_type": "execute_result"
    }
   ],
   "source": [
    "myarr.shape"
   ]
  },
  {
   "cell_type": "code",
   "execution_count": 6,
   "id": "419895c5-41d2-4cc6-9cc3-004fe91f7f22",
   "metadata": {},
   "outputs": [
    {
     "data": {
      "text/plain": [
       "dtype('int32')"
      ]
     },
     "execution_count": 6,
     "metadata": {},
     "output_type": "execute_result"
    }
   ],
   "source": [
    "myarr.dtype\n"
   ]
  },
  {
   "cell_type": "code",
   "execution_count": 7,
   "id": "817f477e-96f7-42b6-a179-caa01c9ecac3",
   "metadata": {},
   "outputs": [],
   "source": [
    "myarr[0,1]=33"
   ]
  },
  {
   "cell_type": "code",
   "execution_count": 8,
   "id": "e5de8a91-6269-4746-ad41-368908b17048",
   "metadata": {},
   "outputs": [
    {
     "data": {
      "text/plain": [
       "array([[ 3, 33,  5,  1,  8]], dtype=int32)"
      ]
     },
     "execution_count": 8,
     "metadata": {},
     "output_type": "execute_result"
    }
   ],
   "source": [
    "myarr"
   ]
  },
  {
   "cell_type": "markdown",
   "id": "41fd2185-b088-4cbf-81fc-195a13cd8150",
   "metadata": {},
   "source": [
    "### Array Creation : Conversion From other Python structure"
   ]
  },
  {
   "cell_type": "code",
   "execution_count": 9,
   "id": "285f571f-eb38-40b2-a7d8-2cfcbca38ecf",
   "metadata": {},
   "outputs": [
    {
     "data": {
      "text/plain": [
       "array({2, 3, 6}, dtype=object)"
      ]
     },
     "execution_count": 9,
     "metadata": {},
     "output_type": "execute_result"
    }
   ],
   "source": [
    "np.array({3,2,6,})  #creates object type data"
   ]
  },
  {
   "cell_type": "code",
   "execution_count": 10,
   "id": "47618bce-6b12-47dd-94c6-580cba84599b",
   "metadata": {},
   "outputs": [],
   "source": [
    "zero = np.zeros((2,5))"
   ]
  },
  {
   "cell_type": "code",
   "execution_count": 11,
   "id": "a5bf8452-7d2d-488e-9934-e38fefd7e8c5",
   "metadata": {},
   "outputs": [
    {
     "data": {
      "text/plain": [
       "array([[0., 0., 0., 0., 0.],\n",
       "       [0., 0., 0., 0., 0.]])"
      ]
     },
     "execution_count": 11,
     "metadata": {},
     "output_type": "execute_result"
    }
   ],
   "source": [
    "zero"
   ]
  },
  {
   "cell_type": "code",
   "execution_count": 12,
   "id": "f8f12d3e-58aa-497d-842b-284a17ac4fc8",
   "metadata": {},
   "outputs": [],
   "source": [
    "rng = np.arange(15)"
   ]
  },
  {
   "cell_type": "code",
   "execution_count": 13,
   "id": "180b0335-c90d-4498-b8ae-60fb66be87e4",
   "metadata": {},
   "outputs": [
    {
     "data": {
      "text/plain": [
       "array([ 0,  1,  2,  3,  4,  5,  6,  7,  8,  9, 10, 11, 12, 13, 14])"
      ]
     },
     "execution_count": 13,
     "metadata": {},
     "output_type": "execute_result"
    }
   ],
   "source": [
    "rng"
   ]
  },
  {
   "cell_type": "code",
   "execution_count": 14,
   "id": "845714ed-1781-49a3-a7e5-b0b0311aa759",
   "metadata": {},
   "outputs": [],
   "source": [
    "lspace = np.linspace(1,8,40)\n"
   ]
  },
  {
   "cell_type": "code",
   "execution_count": 15,
   "id": "c9116de0-4b1a-4344-b9ef-8bdd0d8d24bd",
   "metadata": {},
   "outputs": [
    {
     "data": {
      "text/plain": [
       "array([1.        , 1.17948718, 1.35897436, 1.53846154, 1.71794872,\n",
       "       1.8974359 , 2.07692308, 2.25641026, 2.43589744, 2.61538462,\n",
       "       2.79487179, 2.97435897, 3.15384615, 3.33333333, 3.51282051,\n",
       "       3.69230769, 3.87179487, 4.05128205, 4.23076923, 4.41025641,\n",
       "       4.58974359, 4.76923077, 4.94871795, 5.12820513, 5.30769231,\n",
       "       5.48717949, 5.66666667, 5.84615385, 6.02564103, 6.20512821,\n",
       "       6.38461538, 6.56410256, 6.74358974, 6.92307692, 7.1025641 ,\n",
       "       7.28205128, 7.46153846, 7.64102564, 7.82051282, 8.        ])"
      ]
     },
     "execution_count": 15,
     "metadata": {},
     "output_type": "execute_result"
    }
   ],
   "source": [
    "lspace"
   ]
  },
  {
   "cell_type": "code",
   "execution_count": 16,
   "id": "33d0c1aa-05dd-449e-909d-3b7fcdb8e202",
   "metadata": {},
   "outputs": [],
   "source": [
    "emp = np.empty((2,3))"
   ]
  },
  {
   "cell_type": "code",
   "execution_count": 17,
   "id": "7a32935c-f9b5-4514-b097-c22700511c55",
   "metadata": {},
   "outputs": [
    {
     "data": {
      "text/plain": [
       "array([[6.23042070e-307, 4.67296746e-307, 1.69121096e-306],\n",
       "       [1.86921822e-306, 1.42413555e-306, 1.78019082e-306]])"
      ]
     },
     "execution_count": 17,
     "metadata": {},
     "output_type": "execute_result"
    }
   ],
   "source": [
    "emp"
   ]
  },
  {
   "cell_type": "code",
   "execution_count": 18,
   "id": "1d2e3ce9-12fb-4d07-abf3-db7eca66a666",
   "metadata": {},
   "outputs": [],
   "source": [
    "ide = np.identity(7)"
   ]
  },
  {
   "cell_type": "code",
   "execution_count": 19,
   "id": "567c0a18-24b5-42e6-b243-bfccb1843e23",
   "metadata": {},
   "outputs": [
    {
     "data": {
      "text/plain": [
       "array([[1., 0., 0., 0., 0., 0., 0.],\n",
       "       [0., 1., 0., 0., 0., 0., 0.],\n",
       "       [0., 0., 1., 0., 0., 0., 0.],\n",
       "       [0., 0., 0., 1., 0., 0., 0.],\n",
       "       [0., 0., 0., 0., 1., 0., 0.],\n",
       "       [0., 0., 0., 0., 0., 1., 0.],\n",
       "       [0., 0., 0., 0., 0., 0., 1.]])"
      ]
     },
     "execution_count": 19,
     "metadata": {},
     "output_type": "execute_result"
    }
   ],
   "source": [
    "ide"
   ]
  },
  {
   "cell_type": "code",
   "execution_count": 20,
   "id": "5d2aa193-65b5-4a04-b815-2549422f6eb3",
   "metadata": {},
   "outputs": [],
   "source": [
    "arr = np.arange(99)"
   ]
  },
  {
   "cell_type": "code",
   "execution_count": 21,
   "id": "53c62d87-da7a-4d5f-aef9-85d3ba89ee87",
   "metadata": {},
   "outputs": [
    {
     "data": {
      "text/plain": [
       "array([ 0,  1,  2,  3,  4,  5,  6,  7,  8,  9, 10, 11, 12, 13, 14, 15, 16,\n",
       "       17, 18, 19, 20, 21, 22, 23, 24, 25, 26, 27, 28, 29, 30, 31, 32, 33,\n",
       "       34, 35, 36, 37, 38, 39, 40, 41, 42, 43, 44, 45, 46, 47, 48, 49, 50,\n",
       "       51, 52, 53, 54, 55, 56, 57, 58, 59, 60, 61, 62, 63, 64, 65, 66, 67,\n",
       "       68, 69, 70, 71, 72, 73, 74, 75, 76, 77, 78, 79, 80, 81, 82, 83, 84,\n",
       "       85, 86, 87, 88, 89, 90, 91, 92, 93, 94, 95, 96, 97, 98])"
      ]
     },
     "execution_count": 21,
     "metadata": {},
     "output_type": "execute_result"
    }
   ],
   "source": [
    "arr"
   ]
  },
  {
   "cell_type": "code",
   "execution_count": 22,
   "id": "59229b94-cc0e-4ef9-8945-bb3affb2dc1a",
   "metadata": {},
   "outputs": [
    {
     "ename": "SyntaxError",
     "evalue": "invalid decimal literal (3120795765.py, line 1)",
     "output_type": "error",
     "traceback": [
      "\u001b[1;36m  Cell \u001b[1;32mIn[22], line 1\u001b[1;36m\u001b[0m\n\u001b[1;33m    arr.reshape(11,9)  ;ravel for making 1D array\u001b[0m\n\u001b[1;37m                                         ^\u001b[0m\n\u001b[1;31mSyntaxError\u001b[0m\u001b[1;31m:\u001b[0m invalid decimal literal\n"
     ]
    }
   ],
   "source": [
    "arr.reshape(11,9)  ;ravel for making 1D array"
   ]
  },
  {
   "cell_type": "code",
   "execution_count": null,
   "id": "d588bfdb-3fbf-4abc-996e-a87d6c3031bb",
   "metadata": {},
   "outputs": [],
   "source": [
    "x= [[1,2,3],[4,5,6,],[7,1,0,]]"
   ]
  },
  {
   "cell_type": "code",
   "execution_count": null,
   "id": "43dfd648-c62d-4375-b144-1bf161245deb",
   "metadata": {},
   "outputs": [],
   "source": [
    "ar= np.array(x)"
   ]
  },
  {
   "cell_type": "code",
   "execution_count": null,
   "id": "7f9b4b90-c676-494f-8e80-9538c5d8fd35",
   "metadata": {},
   "outputs": [
    {
     "data": {
      "text/plain": [
       "array([[1, 2, 3],\n",
       "       [4, 5, 6],\n",
       "       [7, 1, 0]])"
      ]
     },
     "execution_count": 48,
     "metadata": {},
     "output_type": "execute_result"
    }
   ],
   "source": [
    "ar"
   ]
  },
  {
   "cell_type": "code",
   "execution_count": null,
   "id": "d68fb862-d14a-4e2c-bbad-5249e66afc1a",
   "metadata": {},
   "outputs": [
    {
     "data": {
      "text/plain": [
       "array([12,  8,  9])"
      ]
     },
     "execution_count": 49,
     "metadata": {},
     "output_type": "execute_result"
    }
   ],
   "source": [
    "ar.sum(axis=0)"
   ]
  },
  {
   "cell_type": "code",
   "execution_count": null,
   "id": "9544572a-36cb-4c26-b5de-6f71eda964e5",
   "metadata": {},
   "outputs": [
    {
     "data": {
      "text/plain": [
       "array([ 6, 15,  8])"
      ]
     },
     "execution_count": 50,
     "metadata": {},
     "output_type": "execute_result"
    }
   ],
   "source": [
    "ar.sum(axis=1)"
   ]
  },
  {
   "cell_type": "code",
   "execution_count": null,
   "id": "bc58ba27-6c7c-478b-914b-fa9d917d7137",
   "metadata": {},
   "outputs": [
    {
     "data": {
      "text/plain": [
       "array([[1, 4, 7],\n",
       "       [2, 5, 1],\n",
       "       [3, 6, 0]])"
      ]
     },
     "execution_count": 51,
     "metadata": {},
     "output_type": "execute_result"
    }
   ],
   "source": [
    "ar.T"
   ]
  },
  {
   "cell_type": "code",
   "execution_count": null,
   "id": "f8f8a47a-ceb3-47dc-b3d0-7b2330d17668",
   "metadata": {},
   "outputs": [
    {
     "data": {
      "text/plain": [
       "<numpy.flatiter at 0x2153d594230>"
      ]
     },
     "execution_count": 52,
     "metadata": {},
     "output_type": "execute_result"
    }
   ],
   "source": [
    "ar.flat"
   ]
  },
  {
   "cell_type": "code",
   "execution_count": null,
   "id": "6750cbdf-cc3f-4842-ae65-e97b612bdfe7",
   "metadata": {},
   "outputs": [
    {
     "name": "stdout",
     "output_type": "stream",
     "text": [
      "1\n",
      "2\n",
      "3\n",
      "4\n",
      "5\n",
      "6\n",
      "7\n",
      "1\n",
      "0\n"
     ]
    }
   ],
   "source": [
    "for item in ar.flat:\n",
    "    print(item)"
   ]
  },
  {
   "cell_type": "code",
   "execution_count": null,
   "id": "7f76069a-f14e-484b-89f7-12d2832cead0",
   "metadata": {},
   "outputs": [
    {
     "data": {
      "text/plain": [
       "2"
      ]
     },
     "execution_count": 55,
     "metadata": {},
     "output_type": "execute_result"
    }
   ],
   "source": [
    "ar.ndim"
   ]
  },
  {
   "cell_type": "code",
   "execution_count": null,
   "id": "56e3494e-f06c-456d-831e-e50ee0475626",
   "metadata": {},
   "outputs": [],
   "source": [
    "dd= ar*ar"
   ]
  },
  {
   "cell_type": "code",
   "execution_count": null,
   "id": "6f7c5c10-8694-4875-af8e-2e75b346320e",
   "metadata": {},
   "outputs": [
    {
     "data": {
      "text/plain": [
       "np.int64(29)"
      ]
     },
     "execution_count": 59,
     "metadata": {},
     "output_type": "execute_result"
    }
   ],
   "source": [
    "ar.sum()"
   ]
  },
  {
   "cell_type": "code",
   "execution_count": null,
   "id": "e5e4d7f6-725d-448d-b142-5194ca4280f2",
   "metadata": {},
   "outputs": [
    {
     "data": {
      "text/plain": [
       "<function ndarray.sum>"
      ]
     },
     "execution_count": 58,
     "metadata": {},
     "output_type": "execute_result"
    }
   ],
   "source": [
    "ar.sum"
   ]
  },
  {
   "cell_type": "code",
   "execution_count": null,
   "id": "c6f08e49-ca5f-4734-b15a-a61fa6ec90f7",
   "metadata": {},
   "outputs": [
    {
     "data": {
      "text/plain": [
       "array([[ 1,  4,  9],\n",
       "       [16, 25, 36],\n",
       "       [49,  1,  0]])"
      ]
     },
     "execution_count": 62,
     "metadata": {},
     "output_type": "execute_result"
    }
   ],
   "source": [
    "dd"
   ]
  },
  {
   "cell_type": "code",
   "execution_count": null,
   "id": "753f4bda-935a-47d6-8a35-2c17c30690ef",
   "metadata": {},
   "outputs": [],
   "source": []
  }
 ],
 "metadata": {
  "kernelspec": {
   "display_name": "Python 3 (ipykernel)",
   "language": "python",
   "name": "python3"
  },
  "language_info": {
   "codemirror_mode": {
    "name": "ipython",
    "version": 3
   },
   "file_extension": ".py",
   "mimetype": "text/x-python",
   "name": "python",
   "nbconvert_exporter": "python",
   "pygments_lexer": "ipython3",
   "version": "3.12.6"
  }
 },
 "nbformat": 4,
 "nbformat_minor": 5
}
